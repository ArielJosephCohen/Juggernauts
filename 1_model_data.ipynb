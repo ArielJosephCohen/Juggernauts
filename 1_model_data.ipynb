{
 "cells": [
  {
   "cell_type": "code",
   "execution_count": 1,
   "metadata": {},
   "outputs": [
    {
     "name": "stderr",
     "output_type": "stream",
     "text": [
      "2024-11-21 10:29:27.544603: I tensorflow/core/platform/cpu_feature_guard.cc:210] This TensorFlow binary is optimized to use available CPU instructions in performance-critical operations.\n",
      "To enable the following instructions: AVX2 AVX512F AVX512_VNNI FMA, in other operations, rebuild TensorFlow with the appropriate compiler flags.\n"
     ]
    }
   ],
   "source": [
    "from model_helper import *"
   ]
  },
  {
   "cell_type": "code",
   "execution_count": 2,
   "metadata": {},
   "outputs": [],
   "source": [
    "df = pd.read_csv('data_clean.csv')\n",
    "nu = pd.read_csv('wildcat.csv')\n",
    "target1 = 'xG_a'\n",
    "target2 = 'xG_h'\n",
    "target3='outcome'\n",
    "\n",
    "for col in df.columns:\n",
    "    if col[-2:] == '_a':\n",
    "        df.drop(col,axis=1,inplace=True,errors='ignore')\n",
    "df.fillna(0,inplace=True)"
   ]
  },
  {
   "cell_type": "code",
   "execution_count": 3,
   "metadata": {},
   "outputs": [],
   "source": [
    "win_loss=df[df['outcome']!=0]\n",
    "win_draw=df[df['outcome']!=2]\n",
    "loss_draw=df[df['outcome']!=1]"
   ]
  },
  {
   "cell_type": "code",
   "execution_count": 5,
   "metadata": {},
   "outputs": [
    {
     "ename": "ValueError",
     "evalue": "Invalid classes inferred from unique values of `y`.  Expected: [0 1], got [1 2]",
     "output_type": "error",
     "traceback": [
      "\u001b[0;31m---------------------------------------------------------------------------\u001b[0m",
      "\u001b[0;31mValueError\u001b[0m                                Traceback (most recent call last)",
      "Cell \u001b[0;32mIn[5], line 1\u001b[0m\n\u001b[0;32m----> 1\u001b[0m fi\u001b[38;5;241m=\u001b[39mclassi_model(win_loss,win_loss[\u001b[38;5;124m'\u001b[39m\u001b[38;5;124moutcome\u001b[39m\u001b[38;5;124m'\u001b[39m],feature_importance\u001b[38;5;241m=\u001b[39m\u001b[38;5;28;01mTrue\u001b[39;00m)\n",
      "File \u001b[0;32m~/Documents/MLDS_Hackathon/Hackathon Data/models/model_helper.py:152\u001b[0m, in \u001b[0;36mclassi_model\u001b[0;34m(X, Y, choice, feature_selection, rocc, coef, feature_importance)\u001b[0m\n\u001b[1;32m    150\u001b[0m best_score \u001b[38;5;241m=\u001b[39m \u001b[38;5;241m0\u001b[39m\n\u001b[1;32m    151\u001b[0m \u001b[38;5;28;01mfor\u001b[39;00m m \u001b[38;5;129;01min\u001b[39;00m models:\n\u001b[0;32m--> 152\u001b[0m     m\u001b[38;5;241m.\u001b[39mfit(X_train, y_train)\n\u001b[1;32m    153\u001b[0m     p \u001b[38;5;241m=\u001b[39m m\u001b[38;5;241m.\u001b[39mpredict(X_test)\n\u001b[1;32m    154\u001b[0m     score \u001b[38;5;241m=\u001b[39m accuracy_score(y_test, p)  \u001b[38;5;66;03m# Use accuracy for binary classification\u001b[39;00m\n",
      "File \u001b[0;32m~/anaconda3/lib/python3.11/site-packages/xgboost/core.py:726\u001b[0m, in \u001b[0;36mrequire_keyword_args.<locals>.throw_if.<locals>.inner_f\u001b[0;34m(*args, **kwargs)\u001b[0m\n\u001b[1;32m    724\u001b[0m \u001b[38;5;28;01mfor\u001b[39;00m k, arg \u001b[38;5;129;01min\u001b[39;00m \u001b[38;5;28mzip\u001b[39m(sig\u001b[38;5;241m.\u001b[39mparameters, args):\n\u001b[1;32m    725\u001b[0m     kwargs[k] \u001b[38;5;241m=\u001b[39m arg\n\u001b[0;32m--> 726\u001b[0m \u001b[38;5;28;01mreturn\u001b[39;00m func(\u001b[38;5;241m*\u001b[39m\u001b[38;5;241m*\u001b[39mkwargs)\n",
      "File \u001b[0;32m~/anaconda3/lib/python3.11/site-packages/xgboost/sklearn.py:1491\u001b[0m, in \u001b[0;36mXGBClassifier.fit\u001b[0;34m(self, X, y, sample_weight, base_margin, eval_set, verbose, xgb_model, sample_weight_eval_set, base_margin_eval_set, feature_weights)\u001b[0m\n\u001b[1;32m   1486\u001b[0m     expected_classes \u001b[38;5;241m=\u001b[39m \u001b[38;5;28mself\u001b[39m\u001b[38;5;241m.\u001b[39mclasses_\n\u001b[1;32m   1487\u001b[0m \u001b[38;5;28;01mif\u001b[39;00m (\n\u001b[1;32m   1488\u001b[0m     classes\u001b[38;5;241m.\u001b[39mshape \u001b[38;5;241m!=\u001b[39m expected_classes\u001b[38;5;241m.\u001b[39mshape\n\u001b[1;32m   1489\u001b[0m     \u001b[38;5;129;01mor\u001b[39;00m \u001b[38;5;129;01mnot\u001b[39;00m (classes \u001b[38;5;241m==\u001b[39m expected_classes)\u001b[38;5;241m.\u001b[39mall()\n\u001b[1;32m   1490\u001b[0m ):\n\u001b[0;32m-> 1491\u001b[0m     \u001b[38;5;28;01mraise\u001b[39;00m \u001b[38;5;167;01mValueError\u001b[39;00m(\n\u001b[1;32m   1492\u001b[0m         \u001b[38;5;124mf\u001b[39m\u001b[38;5;124m\"\u001b[39m\u001b[38;5;124mInvalid classes inferred from unique values of `y`.  \u001b[39m\u001b[38;5;124m\"\u001b[39m\n\u001b[1;32m   1493\u001b[0m         \u001b[38;5;124mf\u001b[39m\u001b[38;5;124m\"\u001b[39m\u001b[38;5;124mExpected: \u001b[39m\u001b[38;5;132;01m{\u001b[39;00mexpected_classes\u001b[38;5;132;01m}\u001b[39;00m\u001b[38;5;124m, got \u001b[39m\u001b[38;5;132;01m{\u001b[39;00mclasses\u001b[38;5;132;01m}\u001b[39;00m\u001b[38;5;124m\"\u001b[39m\n\u001b[1;32m   1494\u001b[0m     )\n\u001b[1;32m   1496\u001b[0m params \u001b[38;5;241m=\u001b[39m \u001b[38;5;28mself\u001b[39m\u001b[38;5;241m.\u001b[39mget_xgb_params()\n\u001b[1;32m   1498\u001b[0m \u001b[38;5;28;01mif\u001b[39;00m \u001b[38;5;28mcallable\u001b[39m(\u001b[38;5;28mself\u001b[39m\u001b[38;5;241m.\u001b[39mobjective):\n",
      "\u001b[0;31mValueError\u001b[0m: Invalid classes inferred from unique values of `y`.  Expected: [0 1], got [1 2]"
     ]
    }
   ],
   "source": [
    "fi=classi_model(win_loss,win_loss['outcome'],feature_importance=True)"
   ]
  },
  {
   "cell_type": "code",
   "execution_count": 61,
   "metadata": {},
   "outputs": [
    {
     "data": {
      "text/plain": [
       "[('num_of_possessions_h', 0.08360513439513369),\n",
       " ('dribbling_success_rate_h', 0.08062940306187417),\n",
       " ('losses_opp_third_h', 0.07417645092335351),\n",
       " ('slide_tackles_h', 0.0701733488784642),\n",
       " ('possession_h', 0.0662356986921395),\n",
       " ('long_passing_accuracy_h', 0.06592322813802523),\n",
       " ('forward_accurate_passes_h', 0.05900275346994001),\n",
       " ('fouls_drawn_h', 0.057458243280991875),\n",
       " ('interceptions_h', 0.05609669909126436),\n",
       " ('defensive_duels_h', 0.04533999345421557),\n",
       " ('possessions_end_in_opp_half_h', 0.04131013320196011),\n",
       " ('total_losses_h', 0.04059053632161409),\n",
       " ('high_crosses_h', 0.03937799578437231),\n",
       " ('shots_blocked_h', 0.036162188144818766),\n",
       " ('total_free_kicks_h', 0.03549094334293903),\n",
       " ('free_kicks_h', 0.03549094334293903),\n",
       " ('passes_to_box_attempted_h', 0.03536128913314412),\n",
       " ('forward_passing_accuracy_h', 0.0344573998853455),\n",
       " ('away_team', 0.029303480186538614),\n",
       " ('total_duels_h', 0.027964912126422506),\n",
       " ('fin_third_accurate_passes_h', 0.026566351489959707),\n",
       " ('lateral_passing_accuracy_h', 0.026158459849583808),\n",
       " ('challenge_intensity_h', 0.02607419465651548),\n",
       " ('total_passing_accuracy_h', 0.025132441029280694),\n",
       " ('progressive_passes_attempted_h', 0.024263260568881888),\n",
       " ('num_medium_possessions_h', 0.022800734877992564),\n",
       " ('recoveries_own_third_h', 0.022675890288133684),\n",
       " ('average_pass_to_final_third_length_h', 0.02264217945027886),\n",
       " ('total_crosses_h', 0.02163328720337746),\n",
       " ('progressive_accurate_passes_h', 0.020296098776284736),\n",
       " ('free_kicks_with_shots_h', 0.01921702685727777),\n",
       " ('total_open_play_possessions_h', 0.01874006904033224),\n",
       " ('perc_total_possessions_end_in_opp_half_h', 0.01706800343615597),\n",
       " ('year', 0.015186813990707584),\n",
       " ('fin_third_passing_accuracy_h', 0.01512850744201367),\n",
       " ('num_very_long_possessions_h', 0.015072918853865549),\n",
       " ('total_accurate_passes_h', 0.013883583797305735),\n",
       " ('losses_own_third_h', 0.011827268817135065),\n",
       " ('average_pass_length_h', 0.011651736354875047),\n",
       " ('blocked_crosses_h', 0.010881274395091501),\n",
       " ('fin_third_passes_attempted_h', 0.0096304225481562),\n",
       " ('accurate_crosses_h', 0.009264261531102137),\n",
       " ('reds_h', 0.005805540127145327),\n",
       " ('lateral_passes_attempted_h', 0.0055059907427129785),\n",
       " ('loose_balls_won_h', 0.0040629523496331765),\n",
       " ('defensive_duels_won_h', 0.004050314674265865),\n",
       " ('average_shot_dist_h', 0.0038471218801953205),\n",
       " ('loose_ball_duels_h', 0.0031741419518730328),\n",
       " ('month', 0.0027695330441510025),\n",
       " ('aerial_duels_h', 0.002285656007463982),\n",
       " ('shot_assists_h', 0.00043254764817980814),\n",
       " ('total_corners_h', 9.267203366212002e-05),\n",
       " ('corners_h', 9.267203366212002e-05),\n",
       " ('total_attacks_to_shot_rate_h', -2.2028247437912526e-05),\n",
       " ('num_long_possessions_h', -0.0002713907016285755),\n",
       " ('forward_passes_attempted_h', -0.00039046575844830877),\n",
       " ('l_h', -0.0012555712347636448),\n",
       " ('accurate_passes_to_box_h', -0.002136391806694481),\n",
       " ('corners_with_shots_h', -0.0029100001698717727),\n",
       " ('ppda_h', -0.004066380456308033),\n",
       " ('crossing_accuracy_h', -0.004324056316961045),\n",
       " ('back_passes_attempted_h', -0.004965416327430544),\n",
       " ('shots_on_post_h', -0.005698487997064154),\n",
       " ('loose_ball_win_rate_h', -0.00784292880006083),\n",
       " ('offensive_duels_win_rate_h', -0.008349547806683939),\n",
       " ('shots_outside_box_h', -0.009304191841545493),\n",
       " ('yellows_h', -0.010821594067150993),\n",
       " ('progressive_passing_accuracy_h', -0.012509800903452696),\n",
       " ('shots_on_target_outside_box_h', -0.013323873063249527),\n",
       " ('aerial_duel_win_rate_h', -0.013550038889545982),\n",
       " ('corner_shot_perc_h', -0.015107907798629699),\n",
       " ('long_accurate_passes_h', -0.01650375397002154),\n",
       " ('aerial_duels_won_h', -0.016724504750715834),\n",
       " ('total_passes_attempted_h', -0.017328546553577455),\n",
       " ('competition_h', -0.018240980257362285),\n",
       " ('shots_on_target_inside_box_h', -0.018498843246729634),\n",
       " ('shots_inside_box_h', -0.018662322673265952),\n",
       " ('num_short_possessions_h', -0.018862193989898256),\n",
       " ('lateral_accurate_passes_h', -0.020804923855415953),\n",
       " ('total_attacks_with_shots_h', -0.020898847237731003),\n",
       " ('offensive_duels_h', -0.02283487928713204),\n",
       " ('offensive_duels_won_h', -0.023594362415524265),\n",
       " ('counters_h', -0.024459038336507245),\n",
       " ('successful_dribbles_h', -0.025725224365570037),\n",
       " ('match_tempo_h', -0.025850026632174887),\n",
       " ('shots_wide_h', -0.0270085779528922),\n",
       " ('total_duel_win_rate_h', -0.027463354097188964),\n",
       " ('shots_h', -0.02796651451481133),\n",
       " ('low_crosses_h', -0.028625982976086824),\n",
       " ('positional_attacks_with_shots_h', -0.02883344830672929),\n",
       " ('shots_on_target_h', -0.029074720124388966),\n",
       " ('shots_on_target_outside_box_perc_h', -0.02991599164987276),\n",
       " ('free_kick_shot_perc_h', -0.030538789209081426),\n",
       " ('total_duels_won_h', -0.03220560014234129),\n",
       " ('positional_attacks_to_shot_rate_h', -0.032919323454769465),\n",
       " ('day', -0.03368689457164552),\n",
       " ('perc_total_possessions_end_in_opp_box_h', -0.03464589720044883),\n",
       " ('posssessions_end_in_opp_box_h', -0.038223639536722157),\n",
       " ('shots_on_target_inside_box_perc_h', -0.03923460938492439),\n",
       " ('deep_completions_h', -0.04017886970470662),\n",
       " ('back_accurate_passes_h', -0.04021991253441571),\n",
       " ('recoveries_in_opp_half_h', -0.04473657481164331),\n",
       " ('losses_mid_third_h', -0.045413183418875444),\n",
       " ('back_passing_accuracy_h', -0.045937038727499185),\n",
       " ('num_positional_attacks_h', -0.04811542396199648),\n",
       " ('offsides_h', -0.050564935863858275),\n",
       " ('clearances_h', -0.05142274751530827),\n",
       " ('recoveries_opp_third_h', -0.05355478564471398),\n",
       " ('total_attacks_h', -0.05652427732776036),\n",
       " ('fouls_committed_h', -0.061916053373511706),\n",
       " ('dribbles_attempted_h', -0.07750601218015062),\n",
       " ('defensive_duels_win_rate_h', -0.08193472672660804),\n",
       " ('long_passes_attempted_h', -0.08277865000591905),\n",
       " ('recoveries_mid_third_h', -0.08873959983762306),\n",
       " ('total_recoveries_h', -0.11961849519420313),\n",
       " ('passes_to_box_accuracy_h', -0.13901338011522468)]"
      ]
     },
     "execution_count": 61,
     "metadata": {},
     "output_type": "execute_result"
    }
   ],
   "source": [
    "fi"
   ]
  }
 ],
 "metadata": {
  "kernelspec": {
   "display_name": "base",
   "language": "python",
   "name": "python3"
  },
  "language_info": {
   "codemirror_mode": {
    "name": "ipython",
    "version": 3
   },
   "file_extension": ".py",
   "mimetype": "text/x-python",
   "name": "python",
   "nbconvert_exporter": "python",
   "pygments_lexer": "ipython3",
   "version": "3.11.5"
  }
 },
 "nbformat": 4,
 "nbformat_minor": 2
}
